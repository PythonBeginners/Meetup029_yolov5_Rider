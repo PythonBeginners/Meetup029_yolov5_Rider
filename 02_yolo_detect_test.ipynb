{
 "cells": [
  {
   "cell_type": "markdown",
   "metadata": {
    "id": "KRYy5--gNJyJ"
   },
   "source": [
    "# 生成したモデルで画像判別をしてみよう！"
   ]
  },
  {
   "cell_type": "markdown",
   "metadata": {
    "id": "Lg5Pox5pNJyK"
   },
   "source": [
    "## googledriveをマウントします"
   ]
  },
  {
   "cell_type": "code",
   "execution_count": 1,
   "metadata": {
    "colab": {
     "base_uri": "https://localhost:8080/"
    },
    "executionInfo": {
     "elapsed": 26901,
     "status": "ok",
     "timestamp": 1627295021430,
     "user": {
      "displayName": "白樺詩乃",
      "photoUrl": "https://lh3.googleusercontent.com/a-/AOh14GgrFzinFEhNXAZTM787um66atp733ZLAkhfk2qh3g=s64",
      "userId": "04531939158971896452"
     },
     "user_tz": -540
    },
    "id": "tb_dWAiRTo1r",
    "outputId": "249a9b84-e2e8-47b3-96fd-7acbc1a1cc32"
   },
   "outputs": [
    {
     "name": "stdout",
     "output_type": "stream",
     "text": [
      "Mounted at /content/drive\n",
      "/content/drive/MyDrive\n"
     ]
    }
   ],
   "source": [
    "from google.colab import drive\n",
    "drive.mount('/content/drive')\n",
    "%cd /content/drive/MyDrive/yolov5"
   ]
  },
  {
   "cell_type": "markdown",
   "metadata": {
    "id": "u9kNBFzzV5mj"
   },
   "source": [
    "## 生成したモデルで画像判別をしてみよう！"
   ]
  },
  {
   "cell_type": "code",
   "execution_count": null,
   "metadata": {
    "id": "XbiXtcpCWEXc"
   },
   "outputs": [],
   "source": [
    "!python detect.py --source ../ダウンロード.jpeg --weight runs/train/datasets/weights/best.pt"
   ]
  },
  {
   "cell_type": "markdown",
   "metadata": {},
   "source": [
    "## 700枚で学習した際のモデルで画像判別をしてみる\n",
    "\n",
    "モデルデータをダウンロードし、マイドライブにおいてください　　　　　　　       \n",
    "学習モデルデータ:https://drive.google.com/file/d/1J96fTqWaofvlLGT13LJuawA8eD3_m7bA/view?usp=sharing"
   ]
  },
  {
   "cell_type": "code",
   "execution_count": null,
   "metadata": {},
   "outputs": [],
   "source": [
    "!python detect.py --source ../ダウンロード.jpeg --weight ../best.pt"
   ]
  },
  {
   "cell_type": "markdown",
   "metadata": {
    "id": "mQRXwDs-NJyL"
   },
   "source": [
    "参考ページ:[【YOLO V5】AIでじゃんけん検出](https://qiita.com/PoodleMaster/items/5f2cc3248c03b03821b8)"
   ]
  }
 ],
 "metadata": {
  "colab": {
   "collapsed_sections": [],
   "name": "02_yolo_detect_test.ipynb",
   "provenance": []
  },
  "kernelspec": {
   "display_name": "Python 3",
   "language": "python",
   "name": "python3"
  },
  "language_info": {
   "codemirror_mode": {
    "name": "ipython",
    "version": 3
   },
   "file_extension": ".py",
   "mimetype": "text/x-python",
   "name": "python",
   "nbconvert_exporter": "python",
   "pygments_lexer": "ipython3",
   "version": "3.8.5"
  }
 },
 "nbformat": 4,
 "nbformat_minor": 2
}
