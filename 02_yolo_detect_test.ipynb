{
 "cells": [
  {
   "cell_type": "markdown",
   "source": [
    "# 生成したモデルで画像判別をしてみよう！"
   ],
   "metadata": {
    "id": "KRYy5--gNJyJ"
   }
  },
  {
   "cell_type": "markdown",
   "source": [
    "## googledriveをマウントします"
   ],
   "metadata": {
    "id": "Lg5Pox5pNJyK"
   }
  },
  {
   "cell_type": "code",
   "execution_count": 1,
   "source": [
    "from google.colab import drive\n",
    "drive.mount('/content/drive')\n",
    "%cd /content/drive/MyDrive/yolov5"
   ],
   "outputs": [
    {
     "output_type": "stream",
     "name": "stdout",
     "text": [
      "Mounted at /content/drive\n",
      "/content/drive/MyDrive\n"
     ]
    }
   ],
   "metadata": {
    "colab": {
     "base_uri": "https://localhost:8080/"
    },
    "executionInfo": {
     "elapsed": 26901,
     "status": "ok",
     "timestamp": 1627295021430,
     "user": {
      "displayName": "白樺詩乃",
      "photoUrl": "https://lh3.googleusercontent.com/a-/AOh14GgrFzinFEhNXAZTM787um66atp733ZLAkhfk2qh3g=s64",
      "userId": "04531939158971896452"
     },
     "user_tz": -540
    },
    "id": "tb_dWAiRTo1r",
    "outputId": "249a9b84-e2e8-47b3-96fd-7acbc1a1cc32"
   }
  },
  {
   "cell_type": "markdown",
   "source": [
    "## 生成したモデルで画像判別をしてみよう！"
   ],
   "metadata": {
    "id": "u9kNBFzzV5mj"
   }
  },
  {
   "cell_type": "markdown",
   "source": [
    "こちらの画像で判別してみましょう     \n",
    "https://drive.google.com/drive/u/6/folders/1wvSv-CxyrMQ1vbewMrQgzg6TJl2aYxh9"
   ],
   "metadata": {}
  },
  {
   "cell_type": "code",
   "execution_count": null,
   "source": [
    "!python detect.py --source ../ダウンロード.jpeg --weight runs/train/datasets/weights/best.pt"
   ],
   "outputs": [],
   "metadata": {
    "id": "XbiXtcpCWEXc"
   }
  },
  {
   "cell_type": "markdown",
   "source": [
    "## 700枚で学習した際のモデルで画像判別をしてみる\n",
    "\n",
    "モデルデータをダウンロードし、マイドライブにおいてください　　　　　　　       \n",
    "学習モデルデータ:https://drive.google.com/file/d/1J96fTqWaofvlLGT13LJuawA8eD3_m7bA/view?usp=sharing"
   ],
   "metadata": {}
  },
  {
   "cell_type": "code",
   "execution_count": null,
   "source": [
    "!python detect.py --source ../ダウンロード.jpeg --weight ../best.pt"
   ],
   "outputs": [],
   "metadata": {}
  },
  {
   "cell_type": "markdown",
   "source": [
    "参考ページ:[【YOLO V5】AIでじゃんけん検出](https://qiita.com/PoodleMaster/items/5f2cc3248c03b03821b8)"
   ],
   "metadata": {
    "id": "mQRXwDs-NJyL"
   }
  }
 ],
 "metadata": {
  "colab": {
   "collapsed_sections": [],
   "name": "02_yolo_detect_test.ipynb",
   "provenance": []
  },
  "kernelspec": {
   "display_name": "Python 3",
   "language": "python",
   "name": "python3"
  },
  "language_info": {
   "codemirror_mode": {
    "name": "ipython",
    "version": 3
   },
   "file_extension": ".py",
   "mimetype": "text/x-python",
   "name": "python",
   "nbconvert_exporter": "python",
   "pygments_lexer": "ipython3",
   "version": "3.8.5"
  }
 },
 "nbformat": 4,
 "nbformat_minor": 2
}