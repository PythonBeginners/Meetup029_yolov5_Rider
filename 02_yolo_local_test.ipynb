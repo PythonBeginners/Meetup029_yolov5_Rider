{
 "cells": [
  {
   "cell_type": "markdown",
   "metadata": {},
   "source": [
    "※開始前にanacondaをインストールしておいてください"
   ]
  },
  {
   "cell_type": "markdown",
   "metadata": {},
   "source": [
    "# モデル移植"
   ]
  },
  {
   "cell_type": "markdown",
   "metadata": {},
   "source": [
    "## Local PC 設定\n",
    "\n",
    "\n",
    "python仮想環境としてanacondaを利用します。    \n",
    "以下のコマンドを実施して、Local PCにyolo5の環境を構築します。     \n",
    "\n",
    "```\n",
    "c:\\>conda create -n yolov5 python=3.8    \n",
    "c:\\>conda activate yolov5     \n",
    "(yolov5) c:\\>git clone https://github.com/ultralytics/yolov5.git    \n",
    "(yolov5) c:\\>cd yolov5    \n",
    "(yolov5) c:\\yolov5>conda install pytorch torchvision -c pytorch      \n",
    "(yolov5) c:\\yolov5>pip install -U -r requirements.txt\n",
    "```"
   ]
  },
  {
   "cell_type": "markdown",
   "metadata": {},
   "source": [
    "## モデル移植"
   ]
  },
  {
   "cell_type": "markdown",
   "metadata": {},
   "source": [
    "Google Colabで作成したモデル「best_xxxx.pt」をダウンロードし、Local PCのyolov5のディレクトリ直下にコピーします。\n",
    "\n",
    "> C:\\yolov5\\best_xxxx.pt     \n",
    "> となるようにコピーしてください"
   ]
  },
  {
   "cell_type": "markdown",
   "metadata": {},
   "source": [
    "参考ページ:[【YOLO V5】AIでじゃんけん検出](https://qiita.com/PoodleMaster/items/5f2cc3248c03b03821b8)"
   ]
  },
  {
   "cell_type": "code",
   "execution_count": null,
   "metadata": {},
   "outputs": [],
   "source": []
  }
 ],
 "metadata": {
  "kernelspec": {
   "display_name": "Python 3",
   "language": "python",
   "name": "python3"
  },
  "language_info": {
   "codemirror_mode": {
    "name": "ipython",
    "version": 3
   },
   "file_extension": ".py",
   "mimetype": "text/x-python",
   "name": "python",
   "nbconvert_exporter": "python",
   "pygments_lexer": "ipython3",
   "version": "3.8.5"
  }
 },
 "nbformat": 4,
 "nbformat_minor": 4
}
