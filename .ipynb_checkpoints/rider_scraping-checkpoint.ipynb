{
 "cells": [
  {
   "cell_type": "markdown",
   "metadata": {},
   "source": [
    "# google画像検索結果をスクレイピングする！"
   ]
  },
  {
   "cell_type": "markdown",
   "metadata": {},
   "source": [
    "今回は SeleniumというWeb ブラウザの操作を自動化するためのフレームワークを使用します"
   ]
  },
  {
   "cell_type": "markdown",
   "metadata": {},
   "source": [
    "## googleDriveをマウントする"
   ]
  },
  {
   "cell_type": "code",
   "execution_count": null,
   "metadata": {},
   "outputs": [],
   "source": [
    "from google.colab import drive\n",
    "drive.mount('/content/drive')"
   ]
  },
  {
   "cell_type": "code",
   "execution_count": 1,
   "metadata": {},
   "outputs": [
    {
     "name": "stdout",
     "output_type": "stream",
     "text": [
      "Requirement already satisfied: selenium in /Users/suzukiayumu/.pyenv/versions/anaconda3-2020.11/lib/python3.8/site-packages (3.141.0)\r\n",
      "Requirement already satisfied: urllib3 in /Users/suzukiayumu/.pyenv/versions/anaconda3-2020.11/lib/python3.8/site-packages (from selenium) (1.25.11)\r\n"
     ]
    }
   ],
   "source": [
    "# Seleniumを使用するのに必要なライブラリをダウンロード\n",
    "!apt-get update\n",
    "!apt install chromium-chromedriver\n",
    "!cp /usr/lib/chromium-browser/chromedriver /usr/bin\n",
    "!pip install selenium"
   ]
  },
  {
   "cell_type": "markdown",
   "metadata": {},
   "source": [
    "## 実際にスクレイピングしてみる\n",
    " 保存先はimage_data内にしてあります"
   ]
  },
  {
   "cell_type": "code",
   "execution_count": null,
   "metadata": {},
   "outputs": [],
   "source": [
    "from selenium import webdriver\n",
    "from selenium.webdriver.chrome.options import Options\n",
    "from selenium.webdriver.common.by import By\n",
    "import os\n",
    "import time\n",
    "import requests\n",
    "import shutil\n",
    "import base64\n",
    "\n",
    "# ドライバーをUIなしで使用するための設定\n",
    "options = webdriver.ChromeOptions()\n",
    "options.add_argument('--headless')\n",
    "options.add_argument('--no-sandbox')\n",
    "options.add_argument('--disable-dev-shm-usage')\n",
    "driver = webdriver.Chrome('chromedriver',options=options)\n",
    "query = input('Search word? :')\n",
    "url = (\"https://www.google.com/search?hl=jp&q=\" + \"+\".join(query.split()) + \"&btnG=Google+Search&tbs=0&safe=off&tbm=isch\")\n",
    "driver.get(url)\n",
    "\n",
    "#適当に下までスクロールしてる--\n",
    "for t in range(5):\n",
    "    driver.execute_script(\"window.scrollTo(0, document.body.scrollHeight)\")\n",
    "    time.sleep(1.5)\n",
    "try:driver.find_element_by_class_name(\"mye4qd\").click() #「検索結果をもっと表示」ってボタンを押してる\n",
    "except:pass\n",
    "for t in range(5):\n",
    "    driver.execute_script(\"window.scrollTo(0, document.body.scrollHeight)\")\n",
    "    time.sleep(1.5)\n",
    "\n",
    "srcs = driver.find_elements(By.XPATH, '//img[@class=\"rg_i Q4LuWd\"]')\n",
    "try:os.mkdir('drive/MyDrive/Meetup029_yolov5_Rider/image_data/' + query) #検索語と同じ名前のフォルダを作る、保存先\n",
    "except:pass\n",
    "#--\n",
    "\n",
    "i = 0 #ファイル名に通し番号をつける用カウンタ\n",
    "\n",
    "print(\"Downloading...\")\n",
    "for j, src in enumerate(srcs):\n",
    "    if j % 50 == 0 or j == len(srcs)-1:\n",
    "        print(\"|\"+ (\"■\" * (20 * j // (len(srcs)-1)))+ (\"　-　\" * (20 - 20 * j // (len(srcs)-1)))+ \"|\",f\"{100*j//(len(srcs)-1)}%\") #ダウンロードの進捗示すやつ\n",
    "    file_name = f\"drive/MyDrive/Meetup029_yolov5_Rider/image_data/{query}/{'_'.join(query.split())}_{str(i).zfill(3)}.jpg\" #ファイル名とか場所とか\n",
    "    src = src.get_attribute(\"src\")\n",
    "    if src != None:\n",
    "#画像に変換--\n",
    "        if \"base64,\" in src:\n",
    "            with open(file_name, \"wb\") as f:\n",
    "                f.write(base64.b64decode(src.split(\",\")[1]))\n",
    "        else:\n",
    "            res = requests.get(src, stream=True)\n",
    "            with open(file_name, \"wb\") as f:\n",
    "                shutil.copyfileobj(res.raw, f)\n",
    "#--\n",
    "        i += 1\n",
    "\n",
    "driver.quit() #ウィンドウを閉じる\n",
    "print(f\"Download is complete. {i} images are downloaded.\")"
   ]
  }
 ],
 "metadata": {
  "kernelspec": {
   "display_name": "Python 3",
   "language": "python",
   "name": "python3"
  },
  "language_info": {
   "codemirror_mode": {
    "name": "ipython",
    "version": 3
   },
   "file_extension": ".py",
   "mimetype": "text/x-python",
   "name": "python",
   "nbconvert_exporter": "python",
   "pygments_lexer": "ipython3",
   "version": "3.8.5"
  }
 },
 "nbformat": 4,
 "nbformat_minor": 4
}
